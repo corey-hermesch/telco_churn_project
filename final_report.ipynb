{
 "cells": [
  {
   "cell_type": "markdown",
   "id": "ce7c1233",
   "metadata": {},
   "source": [
    "# Telco Churn"
   ]
  },
  {
   "cell_type": "markdown",
   "id": "ff0d8d37",
   "metadata": {},
   "source": [
    "## Goal:\n",
    "* Discover drivers of churn at Telco\n",
    "* Use drivers to develop a machine learning model to classify customers as will churn or will not churn"
   ]
  },
  {
   "cell_type": "markdown",
   "id": "a589d49b",
   "metadata": {},
   "source": [
    "## Imports"
   ]
  },
  {
   "cell_type": "code",
   "execution_count": 1,
   "id": "2a07273c",
   "metadata": {},
   "outputs": [],
   "source": [
    "import numpy as np\n",
    "import pandas as pd\n",
    "\n",
    "import matplotlib.pyplot as plt\n",
    "import seaborn as sns\n",
    "import os\n",
    "\n",
    "from sklearn.model_selection import train_test_split\n",
    "from sklearn.metrics import classification_report, confusion_matrix\n",
    "from sklearn.linear_model import LogisticRegression\n",
    "from sklearn.neighbors import KNeighborsClassifier\n",
    "from sklearn.ensemble import RandomForestClassifier \n",
    "from sklearn.tree import DecisionTreeClassifier\n",
    "\n",
    "import warnings\n",
    "warnings.filterwarnings(\"ignore\")\n",
    "\n",
    "from scipy import stats\n",
    "\n",
    "import wrangle as w\n",
    "import my_model as m\n",
    "import explore as e\n",
    "\n",
    "np.random.seed(42)"
   ]
  },
  {
   "cell_type": "markdown",
   "id": "65d18147",
   "metadata": {},
   "source": [
    "## Acquire\n",
    "* Data acquired from Codeup SQL server\n",
    "* It contained 7043 rows and 24 columns before cleaning\n",
    "* Each row data from a single customer at Telco\n",
    "* Each column represents a feature of that customer"
   ]
  },
  {
   "cell_type": "markdown",
   "id": "ac27bca7",
   "metadata": {},
   "source": [
    "## Prepare\n",
    "* Removed columns that did not contain useful information\n",
    "* Checked for nulls in the data\n",
    "    * total_charges had empty strings for brand new customers\n",
    "    * changed those empty strings to '0.00'\n",
    "* Checked that column data types were appropriate (e.g. changed total_charges from string to float)\n",
    "* Encoded categorical variables\n",
    "* Split data into train, validate, and test (~ 80/20/20), stratifying on 'churn'\n",
    "* Outliers have not been removed"
   ]
  },
  {
   "cell_type": "code",
   "execution_count": 2,
   "id": "7aa66540",
   "metadata": {
    "tags": [
     "hide-cell"
    ]
   },
   "outputs": [
    {
     "data": {
      "text/html": [
       "<style>\n",
       "  table {margin-left: 0 !important;}\n",
       "</style>\n"
      ],
      "text/plain": [
       "<IPython.core.display.HTML object>"
      ]
     },
     "metadata": {},
     "output_type": "display_data"
    }
   ],
   "source": [
    "%%html\n",
    "<style>\n",
    "  table {margin-left: 0 !important;}\n",
    "</style>"
   ]
  },
  {
   "cell_type": "markdown",
   "id": "e40fbea9",
   "metadata": {},
   "source": [
    "## Data Dictionary\n",
    "\n",
    "| Feature | Type | Definition |\n",
    "|:--------|:-----|:-----------|\n",
    "|customer_id|string|unique identifer for each customer; format 1111-AAAAA|\n",
    "|gender|string|Male or Female|\n",
    "|senior_citizen|integer|1 for IS a senior citizen, 0 if not|\n",
    "|partner|string|Yes if customer has a partner, No if not|\n",
    "|dependents|string|Yes if customer has dependents, No if not|\n",
    "|tenure|integer|number of months customer has been with Telco|\n",
    "|phone_service|string|Yes if customer has phone service, No if not|\n",
    "|multiple_lines|string|Yes, No, or No Phone Service|\n",
    "|internet_service_type|string|Fiber optic, DSL, or None|\n",
    "|online_security|string|Yes, No, or No internet service|\n",
    "|online_backup|string|Yes, No, or No internet service|\n",
    "|device_protection|string|Yes, No, or No internet service|\n",
    "|tech_support|string|Yes, No, or No internet service|\n",
    "|streaming_tv|string|Yes, No, or No internet service|\n",
    "|streaming_movies|string|Yes, No, or No internet service|\n",
    "|contract_type|string|Month-to-Month, One year, Two year|\n",
    "|paperless_billing|string|Yes if they have paperless billing, No if not|\n",
    "|payment_type|string|Electronic check, Mailed check, Bank transfer (automatic), Credit card (automatic)|\n",
    "|monthly_charges|float|This is the customer's monthly bill|\n",
    "|total_charges|float|This is the total amount a customer has paid since being with the company|\n",
    "|churn|string|Yes if customer churned, No if they stayed with company|"
   ]
  },
  {
   "cell_type": "code",
   "execution_count": 3,
   "id": "947c5d8b",
   "metadata": {},
   "outputs": [
    {
     "name": "stdout",
     "output_type": "stream",
     "text": [
      "csv file found and read\n",
      "Prepared df: (7043, 48)\n",
      "\n",
      "Train: (4225, 48)\n",
      "Validate: (1409, 48)\n",
      "Test: (1409, 48)\n"
     ]
    }
   ],
   "source": [
    "# acquiring and preparing the data for exploration\n",
    "df = w.get_telco_data()\n",
    "e_df = w.prep_telco_to_explore(df)\n",
    "\n",
    "# splitting data into train, validate, and test\n",
    "target = 'churn'\n",
    "train, validate, test = w.split_function(e_df, target)\n",
    "\n",
    "# get non-encoded columns to make it easier to look at\n",
    "ne_train = e.get_telco_ne_df(train)"
   ]
  },
  {
   "cell_type": "markdown",
   "id": "b14395aa",
   "metadata": {},
   "source": [
    "### A brief look at the data"
   ]
  },
  {
   "cell_type": "code",
   "execution_count": 4,
   "id": "29d5d241",
   "metadata": {
    "scrolled": true
   },
   "outputs": [
    {
     "data": {
      "text/html": [
       "<div>\n",
       "<style scoped>\n",
       "    .dataframe tbody tr th:only-of-type {\n",
       "        vertical-align: middle;\n",
       "    }\n",
       "\n",
       "    .dataframe tbody tr th {\n",
       "        vertical-align: top;\n",
       "    }\n",
       "\n",
       "    .dataframe thead th {\n",
       "        text-align: right;\n",
       "    }\n",
       "</style>\n",
       "<table border=\"1\" class=\"dataframe\">\n",
       "  <thead>\n",
       "    <tr style=\"text-align: right;\">\n",
       "      <th></th>\n",
       "      <th>customer_id</th>\n",
       "      <th>gender</th>\n",
       "      <th>senior_citizen</th>\n",
       "      <th>partner</th>\n",
       "      <th>dependents</th>\n",
       "      <th>tenure</th>\n",
       "      <th>phone_service</th>\n",
       "      <th>multiple_lines</th>\n",
       "      <th>internet_service_type</th>\n",
       "      <th>online_security</th>\n",
       "      <th>...</th>\n",
       "      <th>device_protection</th>\n",
       "      <th>tech_support</th>\n",
       "      <th>streaming_tv</th>\n",
       "      <th>streaming_movies</th>\n",
       "      <th>contract_type</th>\n",
       "      <th>paperless_billing</th>\n",
       "      <th>payment_type</th>\n",
       "      <th>monthly_charges</th>\n",
       "      <th>total_charges</th>\n",
       "      <th>churn</th>\n",
       "    </tr>\n",
       "  </thead>\n",
       "  <tbody>\n",
       "    <tr>\n",
       "      <th>2332</th>\n",
       "      <td>3338-CVVEH</td>\n",
       "      <td>Male</td>\n",
       "      <td>0</td>\n",
       "      <td>No</td>\n",
       "      <td>No</td>\n",
       "      <td>12</td>\n",
       "      <td>Yes</td>\n",
       "      <td>Yes</td>\n",
       "      <td>Fiber optic</td>\n",
       "      <td>No</td>\n",
       "      <td>...</td>\n",
       "      <td>No</td>\n",
       "      <td>No</td>\n",
       "      <td>Yes</td>\n",
       "      <td>Yes</td>\n",
       "      <td>Month-to-month</td>\n",
       "      <td>No</td>\n",
       "      <td>Electronic check</td>\n",
       "      <td>94.55</td>\n",
       "      <td>1173.55</td>\n",
       "      <td>No</td>\n",
       "    </tr>\n",
       "    <tr>\n",
       "      <th>5275</th>\n",
       "      <td>7442-YGZFK</td>\n",
       "      <td>Male</td>\n",
       "      <td>0</td>\n",
       "      <td>No</td>\n",
       "      <td>No</td>\n",
       "      <td>1</td>\n",
       "      <td>Yes</td>\n",
       "      <td>Yes</td>\n",
       "      <td>DSL</td>\n",
       "      <td>No</td>\n",
       "      <td>...</td>\n",
       "      <td>No</td>\n",
       "      <td>No</td>\n",
       "      <td>No</td>\n",
       "      <td>No</td>\n",
       "      <td>Month-to-month</td>\n",
       "      <td>Yes</td>\n",
       "      <td>Credit card (automatic)</td>\n",
       "      <td>49.80</td>\n",
       "      <td>49.80</td>\n",
       "      <td>No</td>\n",
       "    </tr>\n",
       "    <tr>\n",
       "      <th>6429</th>\n",
       "      <td>9102-OXKFY</td>\n",
       "      <td>Male</td>\n",
       "      <td>0</td>\n",
       "      <td>No</td>\n",
       "      <td>No</td>\n",
       "      <td>59</td>\n",
       "      <td>Yes</td>\n",
       "      <td>Yes</td>\n",
       "      <td>DSL</td>\n",
       "      <td>No</td>\n",
       "      <td>...</td>\n",
       "      <td>Yes</td>\n",
       "      <td>No</td>\n",
       "      <td>No</td>\n",
       "      <td>No</td>\n",
       "      <td>Two year</td>\n",
       "      <td>No</td>\n",
       "      <td>Credit card (automatic)</td>\n",
       "      <td>54.15</td>\n",
       "      <td>3116.15</td>\n",
       "      <td>No</td>\n",
       "    </tr>\n",
       "    <tr>\n",
       "      <th>89</th>\n",
       "      <td>0141-YEAYS</td>\n",
       "      <td>Female</td>\n",
       "      <td>1</td>\n",
       "      <td>No</td>\n",
       "      <td>No</td>\n",
       "      <td>27</td>\n",
       "      <td>Yes</td>\n",
       "      <td>Yes</td>\n",
       "      <td>Fiber optic</td>\n",
       "      <td>No</td>\n",
       "      <td>...</td>\n",
       "      <td>Yes</td>\n",
       "      <td>No</td>\n",
       "      <td>No</td>\n",
       "      <td>No</td>\n",
       "      <td>Month-to-month</td>\n",
       "      <td>Yes</td>\n",
       "      <td>Bank transfer (automatic)</td>\n",
       "      <td>86.45</td>\n",
       "      <td>2401.05</td>\n",
       "      <td>No</td>\n",
       "    </tr>\n",
       "    <tr>\n",
       "      <th>6412</th>\n",
       "      <td>9079-YEXQJ</td>\n",
       "      <td>Female</td>\n",
       "      <td>0</td>\n",
       "      <td>No</td>\n",
       "      <td>No</td>\n",
       "      <td>54</td>\n",
       "      <td>Yes</td>\n",
       "      <td>Yes</td>\n",
       "      <td>Fiber optic</td>\n",
       "      <td>No</td>\n",
       "      <td>...</td>\n",
       "      <td>Yes</td>\n",
       "      <td>Yes</td>\n",
       "      <td>Yes</td>\n",
       "      <td>Yes</td>\n",
       "      <td>Month-to-month</td>\n",
       "      <td>No</td>\n",
       "      <td>Electronic check</td>\n",
       "      <td>111.10</td>\n",
       "      <td>6014.85</td>\n",
       "      <td>Yes</td>\n",
       "    </tr>\n",
       "  </tbody>\n",
       "</table>\n",
       "<p>5 rows × 21 columns</p>\n",
       "</div>"
      ],
      "text/plain": [
       "     customer_id  gender  senior_citizen partner dependents  tenure  \\\n",
       "2332  3338-CVVEH    Male               0      No         No      12   \n",
       "5275  7442-YGZFK    Male               0      No         No       1   \n",
       "6429  9102-OXKFY    Male               0      No         No      59   \n",
       "89    0141-YEAYS  Female               1      No         No      27   \n",
       "6412  9079-YEXQJ  Female               0      No         No      54   \n",
       "\n",
       "     phone_service multiple_lines internet_service_type online_security  ...  \\\n",
       "2332           Yes            Yes           Fiber optic              No  ...   \n",
       "5275           Yes            Yes                   DSL              No  ...   \n",
       "6429           Yes            Yes                   DSL              No  ...   \n",
       "89             Yes            Yes           Fiber optic              No  ...   \n",
       "6412           Yes            Yes           Fiber optic              No  ...   \n",
       "\n",
       "     device_protection tech_support streaming_tv streaming_movies  \\\n",
       "2332                No           No          Yes              Yes   \n",
       "5275                No           No           No               No   \n",
       "6429               Yes           No           No               No   \n",
       "89                 Yes           No           No               No   \n",
       "6412               Yes          Yes          Yes              Yes   \n",
       "\n",
       "       contract_type paperless_billing               payment_type  \\\n",
       "2332  Month-to-month                No           Electronic check   \n",
       "5275  Month-to-month               Yes    Credit card (automatic)   \n",
       "6429        Two year                No    Credit card (automatic)   \n",
       "89    Month-to-month               Yes  Bank transfer (automatic)   \n",
       "6412  Month-to-month                No           Electronic check   \n",
       "\n",
       "     monthly_charges  total_charges  churn  \n",
       "2332           94.55        1173.55     No  \n",
       "5275           49.80          49.80     No  \n",
       "6429           54.15        3116.15     No  \n",
       "89             86.45        2401.05     No  \n",
       "6412          111.10        6014.85    Yes  \n",
       "\n",
       "[5 rows x 21 columns]"
      ]
     },
     "execution_count": 4,
     "metadata": {},
     "output_type": "execute_result"
    }
   ],
   "source": [
    "ne_train.head()"
   ]
  },
  {
   "cell_type": "markdown",
   "id": "214a428c",
   "metadata": {},
   "source": [
    "### A summary of the data"
   ]
  },
  {
   "cell_type": "code",
   "execution_count": 5,
   "id": "65741678",
   "metadata": {},
   "outputs": [
    {
     "data": {
      "text/html": [
       "<div>\n",
       "<style scoped>\n",
       "    .dataframe tbody tr th:only-of-type {\n",
       "        vertical-align: middle;\n",
       "    }\n",
       "\n",
       "    .dataframe tbody tr th {\n",
       "        vertical-align: top;\n",
       "    }\n",
       "\n",
       "    .dataframe thead th {\n",
       "        text-align: right;\n",
       "    }\n",
       "</style>\n",
       "<table border=\"1\" class=\"dataframe\">\n",
       "  <thead>\n",
       "    <tr style=\"text-align: right;\">\n",
       "      <th></th>\n",
       "      <th>senior_citizen</th>\n",
       "      <th>tenure</th>\n",
       "      <th>monthly_charges</th>\n",
       "      <th>total_charges</th>\n",
       "    </tr>\n",
       "  </thead>\n",
       "  <tbody>\n",
       "    <tr>\n",
       "      <th>count</th>\n",
       "      <td>4225.000000</td>\n",
       "      <td>4225.000000</td>\n",
       "      <td>4225.000000</td>\n",
       "      <td>4225.000000</td>\n",
       "    </tr>\n",
       "    <tr>\n",
       "      <th>mean</th>\n",
       "      <td>0.159053</td>\n",
       "      <td>32.562367</td>\n",
       "      <td>65.273243</td>\n",
       "      <td>2320.103183</td>\n",
       "    </tr>\n",
       "    <tr>\n",
       "      <th>std</th>\n",
       "      <td>0.365769</td>\n",
       "      <td>24.755164</td>\n",
       "      <td>30.218179</td>\n",
       "      <td>2297.297588</td>\n",
       "    </tr>\n",
       "    <tr>\n",
       "      <th>min</th>\n",
       "      <td>0.000000</td>\n",
       "      <td>0.000000</td>\n",
       "      <td>18.400000</td>\n",
       "      <td>0.000000</td>\n",
       "    </tr>\n",
       "    <tr>\n",
       "      <th>25%</th>\n",
       "      <td>0.000000</td>\n",
       "      <td>9.000000</td>\n",
       "      <td>36.450000</td>\n",
       "      <td>392.650000</td>\n",
       "    </tr>\n",
       "    <tr>\n",
       "      <th>50%</th>\n",
       "      <td>0.000000</td>\n",
       "      <td>29.000000</td>\n",
       "      <td>70.750000</td>\n",
       "      <td>1414.800000</td>\n",
       "    </tr>\n",
       "    <tr>\n",
       "      <th>75%</th>\n",
       "      <td>0.000000</td>\n",
       "      <td>56.000000</td>\n",
       "      <td>90.350000</td>\n",
       "      <td>3902.450000</td>\n",
       "    </tr>\n",
       "    <tr>\n",
       "      <th>max</th>\n",
       "      <td>1.000000</td>\n",
       "      <td>72.000000</td>\n",
       "      <td>118.750000</td>\n",
       "      <td>8684.800000</td>\n",
       "    </tr>\n",
       "  </tbody>\n",
       "</table>\n",
       "</div>"
      ],
      "text/plain": [
       "       senior_citizen       tenure  monthly_charges  total_charges\n",
       "count     4225.000000  4225.000000      4225.000000    4225.000000\n",
       "mean         0.159053    32.562367        65.273243    2320.103183\n",
       "std          0.365769    24.755164        30.218179    2297.297588\n",
       "min          0.000000     0.000000        18.400000       0.000000\n",
       "25%          0.000000     9.000000        36.450000     392.650000\n",
       "50%          0.000000    29.000000        70.750000    1414.800000\n",
       "75%          0.000000    56.000000        90.350000    3902.450000\n",
       "max          1.000000    72.000000       118.750000    8684.800000"
      ]
     },
     "execution_count": 5,
     "metadata": {},
     "output_type": "execute_result"
    }
   ],
   "source": [
    "ne_train.describe()"
   ]
  },
  {
   "cell_type": "markdown",
   "id": "98f6830d",
   "metadata": {},
   "source": [
    "## Explore"
   ]
  },
  {
   "cell_type": "markdown",
   "id": "85bdc56c",
   "metadata": {},
   "source": [
    "### How often does churn occur?"
   ]
  },
  {
   "cell_type": "code",
   "execution_count": 6,
   "id": "a66d7465",
   "metadata": {},
   "outputs": [
    {
     "data": {
      "image/png": "[encoded data removed]",
      "text/plain": [
       "<Figure size 640x480 with 1 Axes>"
      ]
     },
     "metadata": {},
     "output_type": "display_data"
    }
   ],
   "source": [
    "# get a histogram of churn\n",
    "e.get_hist_churn(ne_train)"
   ]
  },
  {
   "cell_type": "markdown",
   "id": "2c9c63df",
   "metadata": {},
   "source": [
    "* Customers who churn represent ~ 26.5% of the data"
   ]
  },
  {
   "cell_type": "markdown",
   "id": "973b54b2",
   "metadata": {},
   "source": [
    "## Do monthly_charges affect churn?"
   ]
  },
  {
   "cell_type": "code",
   "execution_count": 7,
   "id": "7947435f",
   "metadata": {},
   "outputs": [
    {
     "data": {
      "image/png": "[encoded data removed]",
      "text/plain": [
       "<Figure size 640x480 with 1 Axes>"
      ]
     },
     "metadata": {},
     "output_type": "display_data"
    },
    {
     "data": {
      "image/png": "[encoded data removed]",
      "text/plain": [
       "<Figure size 640x480 with 1 Axes>"
      ]
     },
     "metadata": {},
     "output_type": "display_data"
    }
   ],
   "source": [
    "# get boxplot and histplot for monthly_charges vs churn \n",
    "e.get_box_plot(ne_train, feature='monthly_charges')\n",
    "e.get_hist_plot(ne_train, feature='monthly_charges')"
   ]
  },
  {
   "cell_type": "markdown",
   "id": "02d8cc17",
   "metadata": {},
   "source": [
    "### Analyze monthly_charges vs churn with statistics\n",
    "- $H_0$ There is NO relationship between monthly charges and churn\n",
    "- $H_a$ There IS a relationship\n",
    "- $\\alpha$ = .05\n",
    "- categorical vs continuous variables not normally distributed => mannwhitneyu test"
   ]
  },
  {
   "cell_type": "code",
   "execution_count": 8,
   "id": "8a56801a",
   "metadata": {
    "scrolled": true
   },
   "outputs": [
    {
     "name": "stdout",
     "output_type": "stream",
     "text": [
      "t = 1351248.0\n",
      "p = 1.261599899747347e-28\n"
     ]
    }
   ],
   "source": [
    "# get mannwhitneyu test\n",
    "e.get_mannwhitneyu(ne_train)"
   ]
  },
  {
   "cell_type": "markdown",
   "id": "ee9ba856",
   "metadata": {},
   "source": [
    "- p is < $\\alpha$, so we can reject the $H_0$ which suggests the $H_a$\n",
    "\n",
    "- when monthly_charges are < \\\\$30;  10.4\\% of people churned (101/975)\n",
    "\n",
    "- when monthly_charges are >= \\\\$30; 31.4% of people churned (1020/3250)\n",
    "\n",
    "- when monthly_charges are between \\\\$70 - \\\\$110; 36% of people churned (736/2037)\n",
    "\n",
    "\n",
    "- If our model simply predicted churn when monthly_charges >= 30, a confusion matrix would look like this:\n",
    "\n",
    "|               | pred_No_churn | pred_Yes_churn |\n",
    "|:--------------|:-------------:|:--------------:|\n",
    "|actual_No_churn|874|2230|\n",
    "|actual_Yes_churn|101|1020|\n",
    "\n",
    "- accuracy is only 45%, but recall is 91%\n",
    "\n",
    "\n",
    "- In summary, higher monthly charges increases the likelihood of churn."
   ]
  },
  {
   "cell_type": "markdown",
   "id": "6b8fb7c5",
   "metadata": {},
   "source": [
    "## Does tenure affect churn?"
   ]
  },
  {
   "cell_type": "code",
   "execution_count": 9,
   "id": "d25a9800",
   "metadata": {},
   "outputs": [
    {
     "data": {
      "image/png": "[encoded data removed]",
      "text/plain": [
       "<Figure size 640x480 with 1 Axes>"
      ]
     },
     "metadata": {},
     "output_type": "display_data"
    },
    {
     "data": {
      "image/png": "[encoded data removed]",
      "text/plain": [
       "<Figure size 640x480 with 1 Axes>"
      ]
     },
     "metadata": {},
     "output_type": "display_data"
    }
   ],
   "source": [
    "# get boxplot for tenure vs churn\n",
    "e.get_box_plot(ne_train, feature='tenure')\n",
    "e.get_hist_plot(ne_train, feature='tenure')"
   ]
  },
  {
   "cell_type": "markdown",
   "id": "ea9190d2",
   "metadata": {},
   "source": [
    "### Analyze tenure vs churn with statistics\n",
    "- $H_0$ There is NO relationship between tenure and churn\n",
    "- $H_a$ There IS a relationship\n",
    "- $\\alpha$ = .05\n",
    "- categorical vs continuous variables not normally distributed => mannwhitneyu test"
   ]
  },
  {
   "cell_type": "code",
   "execution_count": 10,
   "id": "97ec832f",
   "metadata": {},
   "outputs": [
    {
     "name": "stdout",
     "output_type": "stream",
     "text": [
      "t = 2590959.0\n",
      "p = 9.793028571741095e-131\n"
     ]
    }
   ],
   "source": [
    "# get mannwhitneyu test\n",
    "e.get_mannwhitneyu(ne_train, feature='tenure')"
   ]
  },
  {
   "cell_type": "markdown",
   "id": "a40eb160",
   "metadata": {},
   "source": [
    "- p is < $\\alpha$, so we can reject the $H_0$ which suggests the $H_a$\n",
    "\n",
    "- when tenure is <= 10/15/20 months, 50/46/44 % of people churned\n",
    "\n",
    "- in contrast, when tenure is > 20 months, only 14% of people churned\n",
    "\n",
    "- If our model simply predicted churn when tenure <= 20 months, a confusion matrix would look like this:\n",
    "\n",
    "|               | pred_No_churn | pred_Yes_churn |\n",
    "|:--------------|:-------------:|:--------------:|\n",
    "|actual_No_churn|2142|962|\n",
    "|actual_Yes_churn|359|762|\n",
    "\n",
    "- accuracy is only 69%, but recall is 68%\n",
    "\n",
    "- In summary, lower tenure increases the likelihood of churn."
   ]
  },
  {
   "cell_type": "markdown",
   "id": "44e937a0",
   "metadata": {},
   "source": [
    "## Does contract_type affect churn?"
   ]
  },
  {
   "cell_type": "code",
   "execution_count": 11,
   "id": "8f86e3da",
   "metadata": {},
   "outputs": [
    {
     "data": {
      "image/png": "[encoded data removed]",
      "text/plain": [
       "<Figure size 640x480 with 1 Axes>"
      ]
     },
     "metadata": {},
     "output_type": "display_data"
    }
   ],
   "source": [
    "# get histplot for contract_type vs churn\n",
    "e.get_hist_plot(ne_train, feature='contract_type')"
   ]
  },
  {
   "cell_type": "markdown",
   "id": "4603e907",
   "metadata": {},
   "source": [
    "### Analyze contract_type vs churn with statistics\n",
    "- $H_0$ There is NO relationship between contract_type and churn\n",
    "- $H_a$ There IS a relationship\n",
    "- $\\alpha$ = .05\n",
    "- categorical vs categorical variables => chi^2 test"
   ]
  },
  {
   "cell_type": "code",
   "execution_count": 12,
   "id": "1dcd0b3a",
   "metadata": {},
   "outputs": [
    {
     "name": "stdout",
     "output_type": "stream",
     "text": [
      "chi^2 = 748.2006336217892\n",
      "p     = 3.3907574978861363e-163\n"
     ]
    }
   ],
   "source": [
    "# get chi-square results\n",
    "e.get_chi_results(ne_train, feature='contract_type')"
   ]
  },
  {
   "cell_type": "markdown",
   "id": "6d06ce0e",
   "metadata": {},
   "source": [
    "- p is < $\\alpha$, so we can reject the $H_0$ which suggests the $H_a$\n",
    "\n",
    "- In summary, a contract_type of Month-to-month increases the likelihood of churn."
   ]
  },
  {
   "cell_type": "markdown",
   "id": "7ba0df57",
   "metadata": {},
   "source": [
    "## Does payment_type affect churn?"
   ]
  },
  {
   "cell_type": "code",
   "execution_count": 13,
   "id": "32a58c5c",
   "metadata": {},
   "outputs": [
    {
     "data": {
      "image/png": "[encoded data removed]",
      "text/plain": [
       "<Figure size 640x480 with 1 Axes>"
      ]
     },
     "metadata": {},
     "output_type": "display_data"
    }
   ],
   "source": [
    "# get histplot for payment_type vs churn\n",
    "e.get_hist_plot(ne_train, feature='payment_type')\n",
    "\n",
    "# Note: x axis has 4 categories. They are, from left to right:\n",
    "# Electronic check, Credit card (automatic), Bank transfer (automatic), Mailed check"
   ]
  },
  {
   "cell_type": "markdown",
   "id": "b695a30b",
   "metadata": {},
   "source": [
    "### Analyze payment_type vs churn with statistics\n",
    "- $H_0$ There is NO relationship between payment_type and churn\n",
    "- $H_a$ There IS a relationship\n",
    "- $\\alpha$ = .05\n",
    "- categorical vs categorical variables => chi^2 test"
   ]
  },
  {
   "cell_type": "code",
   "execution_count": 14,
   "id": "36f0544c",
   "metadata": {},
   "outputs": [
    {
     "name": "stdout",
     "output_type": "stream",
     "text": [
      "chi^2 = 411.5935596871652\n",
      "p     = 6.820556365758793e-89\n"
     ]
    }
   ],
   "source": [
    "# get chi-square results\n",
    "e.get_chi_results(ne_train, feature='payment_type')"
   ]
  },
  {
   "cell_type": "markdown",
   "id": "8824565b",
   "metadata": {},
   "source": [
    "- p is < $\\alpha$, so we can reject the $H_0$ which suggests the $H_a$\n",
    "\n",
    "- In summary, a payment_type of Electronic check increases the likelihood of churn."
   ]
  },
  {
   "cell_type": "markdown",
   "id": "277638ec",
   "metadata": {},
   "source": [
    "## Exploration Summary\n",
    "* Drivers of churn: monthly_charges, tenure, contract_type, and payment_type\n",
    "* \\*Additional drivers of churn: paperless_billing, internet_service_type, online_security, online_backup, device_protection, and tech_support\n",
    "\n",
    "* Non-significant drivers of churn: multiple_lines, phone_service, streaming_tv, streaming_movies\n",
    "* Repeated information: total_charges (directly related to tenure)\n",
    "\n",
    "\\* Visualizations and stats test for additional drivers of churn not shown in this workbook"
   ]
  },
  {
   "cell_type": "markdown",
   "id": "829d19f1",
   "metadata": {},
   "source": [
    "## Features I am moving to modeling with\n",
    "* monthly_charges\n",
    "* tenure\n",
    "* contract_type\n",
    "* payment_type\n",
    "* internet_service_type\n",
    "* tech_support\n",
    "* paperless_billing\n",
    "* online_security\n",
    "* online_backup\n",
    "* device_protection\n"
   ]
  },
  {
   "cell_type": "markdown",
   "id": "f91d9b4f",
   "metadata": {},
   "source": [
    "## Features I am NOT moving to modeling with\n",
    "* multiple_lines\n",
    "* phone_service\n",
    "* streaming_tv\n",
    "* streaming_movies\n",
    "* total_charges\n",
    "* gender\n",
    "* senior_citizen\n",
    "* partner\n",
    "* dependents"
   ]
  },
  {
   "cell_type": "markdown",
   "id": "fbfd14fc",
   "metadata": {},
   "source": [
    "## Modeling\n",
    "* I will use accuracy and recall (TP/(TP+FN)) as my evaluation metrics \n",
    "    * Priority 1: accuracy\n",
    "    * Priority 2: recall\n",
    "* Customers who did NOT churn represent 73.5% of the data\n",
    "* By guessing NOT churn for every customer, one could achieve an accuracy of 73.5%. Therefore 73.5% will be the baseline accuracy I use for this project\n",
    "* I will be evaluating models developed using four different model types and various hyperparameter configurations \n",
    "    * The four model types are Logistic Regression, knn, Random Forest, and Decision Tree\n",
    "* Models will be evaluated on train and validate data\n",
    "* The model that performs the best will then be evaluated on test data"
   ]
  },
  {
   "cell_type": "code",
   "execution_count": 15,
   "id": "f36946e3",
   "metadata": {},
   "outputs": [
    {
     "name": "stdout",
     "output_type": "stream",
     "text": [
      "baseline accuracy = 0.735\n"
     ]
    }
   ],
   "source": [
    "# reset target, prep data for modeling\n",
    "target = 'churn_encoded'\n",
    "X_train, X_validate, X_test, y_train, y_validate, y_test, baseline = m.model_prep(train, validate, test, target)\n",
    "print(f'baseline accuracy = {round(baseline,3)}')"
   ]
  },
  {
   "cell_type": "markdown",
   "id": "b29ffac2",
   "metadata": {},
   "source": [
    "### Top 3 Models\n",
    "* 1. DecisionTree(max_depth=6) with features2: \n",
    "* 2. knn(n_neighbors=14) with features1: \n",
    "* 3. LogisticRegression(C=1) with features1: \n",
    "\n",
    "features1 = \n",
    "\n",
    "    - monthly_charges, \n",
    "    - tenure, \n",
    "    - contract_type, \n",
    "    - payment_type, \n",
    "    - internet_service_type, \n",
    "    - tech_support\n",
    "    - paperless_billing, \n",
    "    - online_security, \n",
    "    - online_backup, \n",
    "    - device_protection, \n",
    "\n",
    "\n",
    "features2 = \n",
    "\n",
    "    - monthly_charges, \n",
    "    - tenure, \n",
    "    - contract_type, \n",
    "    - payment_type, \n",
    "    - internet_service_type, \n",
    "    - tech_support\n",
    "\n",
    "i.e. features2 = features1 - paperless_billing, online_security, online_backup, device_protection"
   ]
  },
  {
   "cell_type": "markdown",
   "id": "06490b23",
   "metadata": {},
   "source": [
    "### Decision Tree with features2"
   ]
  },
  {
   "cell_type": "code",
   "execution_count": 16,
   "id": "c9a7c32c",
   "metadata": {},
   "outputs": [
    {
     "name": "stdout",
     "output_type": "stream",
     "text": [
      "Accuracy on train is 0.8170414201183432\n",
      "Recall on train is 0.5227475468331847\n",
      "\n",
      "Accuracy on validate is 0.78708303761533\n",
      "Recall on validate is 0.4919786096256685\n"
     ]
    }
   ],
   "source": [
    "# get Decision Tree (max_depth=6) results\n",
    "m.get_tree_features2(X_train, X_validate, y_train, y_validate)"
   ]
  },
  {
   "cell_type": "markdown",
   "id": "34f6653a",
   "metadata": {},
   "source": [
    "* Decision Tree with features2 beats baseline of .735"
   ]
  },
  {
   "cell_type": "markdown",
   "id": "f8076c1c",
   "metadata": {},
   "source": [
    "### knn with features1"
   ]
  },
  {
   "cell_type": "code",
   "execution_count": 17,
   "id": "a8d1633a",
   "metadata": {},
   "outputs": [
    {
     "name": "stdout",
     "output_type": "stream",
     "text": [
      "Accuracy on train is 0.8149112426035503\n",
      "Recall on train is 0.5022301516503123\n",
      "\n",
      "Accuracy on validate is 0.78708303761533\n",
      "Recall on validate is 0.45989304812834225\n"
     ]
    }
   ],
   "source": [
    "# get knn (n_neighbors=14) results\n",
    "m.get_knn_all_features(X_train, X_validate, y_train, y_validate)"
   ]
  },
  {
   "cell_type": "markdown",
   "id": "a51c13e0",
   "metadata": {},
   "source": [
    "* knn with all features beats baseline of .735"
   ]
  },
  {
   "cell_type": "markdown",
   "id": "230c7838",
   "metadata": {},
   "source": [
    "### Logistic Regression with features1"
   ]
  },
  {
   "cell_type": "code",
   "execution_count": 18,
   "id": "b5609819",
   "metadata": {},
   "outputs": [
    {
     "name": "stdout",
     "output_type": "stream",
     "text": [
      "Accuracy on train is 0.8087573964497041\n",
      "Recall on train is 0.552185548617306\n",
      "\n",
      "Accuracy on validate is 0.7849538679914834\n",
      "Recall on validate is 0.5213903743315508\n"
     ]
    }
   ],
   "source": [
    "# get Logistic Regression (C=1) results\n",
    "m.get_reg_all_features(X_train, X_validate, y_train, y_validate)"
   ]
  },
  {
   "cell_type": "markdown",
   "id": "6cc140c7",
   "metadata": {},
   "source": [
    "* Logistic Regression with all features beats baseline of .735"
   ]
  },
  {
   "cell_type": "markdown",
   "id": "5ae40882",
   "metadata": {},
   "source": [
    "## Comparing Models\n",
    "\n",
    "* The best models of the eight assessed (four types * 2 sets of features)\n",
    "* 1. DecisionTree(max_depth=6) with features2: train/val accuracy = .817/.787; Recall = .52/.49\n",
    "* 2. knn(n_neighbors=14) with features1: train/val accuracy = .815/.787; Recall = .50/.46\n",
    "* 3. LogisticRegression(C=1) with features1: train/val accuracy = .809/.785; Recall = .55/.52\n",
    "\n",
    "\n",
    "- All three models beat the baseline (.735). \n",
    "- All three models are very similar, and I could move forward with any of them.\n",
    "- I have chosen to move forward with the Decision Tree model"
   ]
  },
  {
   "cell_type": "markdown",
   "id": "96c96f88",
   "metadata": {},
   "source": [
    "### Decision Tree on test"
   ]
  },
  {
   "cell_type": "code",
   "execution_count": 19,
   "id": "1a513493",
   "metadata": {},
   "outputs": [
    {
     "name": "stdout",
     "output_type": "stream",
     "text": [
      "Accuracy on train is 0.8170414201183432\n",
      "Recall on train is 0.5227475468331847\n",
      "\n",
      "Accuracy on validate is 0.7814052519517388\n",
      "Recall on validate is 0.4786096256684492\n"
     ]
    }
   ],
   "source": [
    "# get test results for final model\n",
    "m.get_tree_features2(X_train, X_test, y_train, y_test)"
   ]
  },
  {
   "cell_type": "markdown",
   "id": "ded19c53",
   "metadata": {},
   "source": [
    "### Modeling Summary\n",
    "\n",
    "- When evaluated on unseen data, the selected Decision Tree model had an accuracy of .781 and a recall of .478\n",
    "- This model does beat the baseline of .735, but it's recall indicates we will miss ~50% of customers who churn\n"
   ]
  },
  {
   "cell_type": "markdown",
   "id": "6a5cd652",
   "metadata": {},
   "source": [
    "# Conclusions\n",
    "## Exploration\n",
    "- customers choose to churn ~26.5% of the time in the dataset\n",
    "- customers with higher monthly charges churn more often\n",
    "    - monthly_charges >=30   => 31% churn rate\n",
    "    - monthly_charges 70 - 110  => 36% churn ratee\n",
    "    - in contrast, when monthly_charges < 30   => 10% churn rate\n",
    "- customers with lower tenure churn more often\n",
    "    - when tenure is <= 10/15/20 months, 50/46/44 % of people churned\n",
    "    - in contrast, when tenure is > 20 months, only 14% of people churned\n",
    "- other drivers of increased churn rate:\n",
    "    - contract_type = Month-to-month\n",
    "    - payment_type = Electronic check\n",
    "    - internet_service_type = Fiber optic\n",
    "    - online_security/online_backup/device_protection/tech_support = No\n",
    "\n",
    "    "
   ]
  },
  {
   "cell_type": "markdown",
   "id": "00d72411",
   "metadata": {},
   "source": [
    "## Modeling\n",
    "\n",
    "- The final model outperformed the baseline by a small margin (78% vs 73.5%) \n",
    "- However, the recall was only 48% on unseen data which means this model would miss 52% of customers who churn\n",
    "- A very simple model that targeted customers with monthly_charges >= 30 would only be ~45% accurate, but it would capture ~91% of customers who are about to churn\n",
    "- Another very simple model that targeted customers whose tenure is <= 20 would be ~69% accurate and capture ~69% of customers about to churn"
   ]
  },
  {
   "cell_type": "markdown",
   "id": "b98e79e2",
   "metadata": {},
   "source": [
    "# Recommendations\n",
    "- Considering a variety of customer engagement strategies:\n",
    "    - when the cost of engagement is low, utilize a simple model (monthly_charges >= 30 or tenure <= 20) to reach the max percentage of customers about to churn\n",
    "    - when the cost of engagement is higher, consider the Decision Tree model since it's accuracy is higher, i.e. less likely to engage with customers who already do not plan to churn\n",
    "- Consider collecting additional data to model. For example:\n",
    "    - region and/or zip code,\n",
    "    - number of customer service interactions (phone calls, service appointments), \n",
    "    - number of close contacts with Telco "
   ]
  },
  {
   "cell_type": "markdown",
   "id": "bdf8708f",
   "metadata": {},
   "source": [
    "## Next steps\n",
    "- With more time, I would run the various models on different sets of features. \n",
    "    - For instance: only use monthly_charges and tenure\n",
    "    - OR since online_security/online_backup/device_protection/tech_support have very similar percentages, I would check to see if these are generally the same customers, and if so, pick just one and exclude the rest\n",
    "- With more time, I would investigate other sklearn models and other methodologies that may work better.\n",
    "- I excluded the demographics variables very quickly (gender, partner, dependents, senior_citizen) so I would look at them more closely"
   ]
  },
  {
   "cell_type": "code",
   "execution_count": 20,
   "id": "e6d1eea3",
   "metadata": {},
   "outputs": [
    {
     "name": "stdout",
     "output_type": "stream",
     "text": [
      "csv file found and overwritten\n"
     ]
    }
   ],
   "source": [
    "# writing prediction.csv with best model\n",
    "m.get_write_predictions_csv(X_train, X_test, y_train, test.customer_id)"
   ]
  }
 ],
 "metadata": {
  "kernelspec": {
   "display_name": "Python 3 (ipykernel)",
   "language": "python",
   "name": "python3"
  },
  "language_info": {
   "codemirror_mode": {
    "name": "ipython",
    "version": 3
   },
   "file_extension": ".py",
   "mimetype": "text/x-python",
   "name": "python",
   "nbconvert_exporter": "python",
   "pygments_lexer": "ipython3",
   "version": "3.9.13"
  }
 },
 "nbformat": 4,
 "nbformat_minor": 5
}
